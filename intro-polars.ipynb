{
 "cells": [
  {
   "cell_type": "markdown",
   "id": "d0f8471f-e781-4c52-91d4-30906bc509c4",
   "metadata": {},
   "source": [
    "### Importando as bibliotecas"
   ]
  },
  {
   "cell_type": "code",
   "execution_count": 1,
   "id": "4cb87b0a-2e2b-4c70-ba78-2a1cd72d0fdd",
   "metadata": {},
   "outputs": [],
   "source": [
    "import polars as pl\n",
    "import pandas as pd\n",
    "import numpy as np\n",
    "import pyarrow"
   ]
  },
  {
   "cell_type": "markdown",
   "id": "f36a120d-d7cb-4d2d-8213-650455a999b0",
   "metadata": {},
   "source": [
    "### Fonte dos dados\n",
    "#### https://dados.gov.br/dados/conjuntos-dados/cadastro-nacional-da-pessoa-juridica---cnpj"
   ]
  },
  {
   "cell_type": "markdown",
   "id": "a4da33ec-0a77-4fec-beda-8148d1e677dc",
   "metadata": {},
   "source": [
    "### Lendo o CSV"
   ]
  },
  {
   "cell_type": "code",
   "execution_count": 2,
   "id": "0a09835b-7896-4d3d-a7b6-858e21730d23",
   "metadata": {},
   "outputs": [],
   "source": [
    "df = pl.read_csv(\"assets/cnaes.csv\", separator=\";\", has_header=False, new_columns=[\"codigo\", \"descricao\"])"
   ]
  },
  {
   "cell_type": "markdown",
   "id": "7407ed4e-1428-431e-821a-e53646da6636",
   "metadata": {},
   "source": [
    "### Operações básicas"
   ]
  },
  {
   "cell_type": "code",
   "execution_count": 3,
   "id": "e9015704-1e98-4c05-9051-9019374cc00d",
   "metadata": {},
   "outputs": [
    {
     "data": {
      "text/plain": [
       "(1359, 2)"
      ]
     },
     "execution_count": 3,
     "metadata": {},
     "output_type": "execute_result"
    }
   ],
   "source": [
    "df.shape"
   ]
  },
  {
   "cell_type": "code",
   "execution_count": 4,
   "id": "f89cb5d4-8c13-48c4-a30e-7571e0aa8d6e",
   "metadata": {},
   "outputs": [
    {
     "data": {
      "text/html": [
       "<div><style>\n",
       ".dataframe > thead > tr,\n",
       ".dataframe > tbody > tr {\n",
       "  text-align: right;\n",
       "  white-space: pre-wrap;\n",
       "}\n",
       "</style>\n",
       "<small>shape: (5, 2)</small><table border=\"1\" class=\"dataframe\"><thead><tr><th>codigo</th><th>descricao</th></tr><tr><td>i64</td><td>str</td></tr></thead><tbody><tr><td>111301</td><td>&quot;Cultivo de arr…</td></tr><tr><td>111302</td><td>&quot;Cultivo de mil…</td></tr><tr><td>111303</td><td>&quot;Cultivo de tri…</td></tr><tr><td>111399</td><td>&quot;Cultivo de out…</td></tr><tr><td>112101</td><td>&quot;Cultivo de alg…</td></tr></tbody></table></div>"
      ],
      "text/plain": [
       "shape: (5, 2)\n",
       "┌────────┬───────────────────────────────────┐\n",
       "│ codigo ┆ descricao                         │\n",
       "│ ---    ┆ ---                               │\n",
       "│ i64    ┆ str                               │\n",
       "╞════════╪═══════════════════════════════════╡\n",
       "│ 111301 ┆ Cultivo de arroz                  │\n",
       "│ 111302 ┆ Cultivo de milho                  │\n",
       "│ 111303 ┆ Cultivo de trigo                  │\n",
       "│ 111399 ┆ Cultivo de outros cereais não es… │\n",
       "│ 112101 ┆ Cultivo de algodão herbáceo       │\n",
       "└────────┴───────────────────────────────────┘"
      ]
     },
     "execution_count": 4,
     "metadata": {},
     "output_type": "execute_result"
    }
   ],
   "source": [
    "df.head()"
   ]
  },
  {
   "cell_type": "code",
   "execution_count": 5,
   "id": "4182844e-c94e-407c-af20-1766fca224f8",
   "metadata": {},
   "outputs": [
    {
     "data": {
      "text/html": [
       "<div><style>\n",
       ".dataframe > thead > tr,\n",
       ".dataframe > tbody > tr {\n",
       "  text-align: right;\n",
       "  white-space: pre-wrap;\n",
       "}\n",
       "</style>\n",
       "<small>shape: (5, 2)</small><table border=\"1\" class=\"dataframe\"><thead><tr><th>codigo</th><th>descricao</th></tr><tr><td>i64</td><td>str</td></tr></thead><tbody><tr><td>9609208</td><td>&quot;Higiene e embe…</td></tr><tr><td>9609299</td><td>&quot;Outras ativida…</td></tr><tr><td>9700500</td><td>&quot;Serviços domés…</td></tr><tr><td>9900800</td><td>&quot;Organismos int…</td></tr><tr><td>8888888</td><td>&quot;Atividade Econ…</td></tr></tbody></table></div>"
      ],
      "text/plain": [
       "shape: (5, 2)\n",
       "┌─────────┬───────────────────────────────────┐\n",
       "│ codigo  ┆ descricao                         │\n",
       "│ ---     ┆ ---                               │\n",
       "│ i64     ┆ str                               │\n",
       "╞═════════╪═══════════════════════════════════╡\n",
       "│ 9609208 ┆ Higiene e embelezamento de anima… │\n",
       "│ 9609299 ┆ Outras atividades de serviços pe… │\n",
       "│ 9700500 ┆ Serviços domésticos               │\n",
       "│ 9900800 ┆ Organismos internacionais e outr… │\n",
       "│ 8888888 ┆ Atividade Econônica não informad… │\n",
       "└─────────┴───────────────────────────────────┘"
      ]
     },
     "execution_count": 5,
     "metadata": {},
     "output_type": "execute_result"
    }
   ],
   "source": [
    "df.tail()"
   ]
  },
  {
   "cell_type": "code",
   "execution_count": 6,
   "id": "45df50c0-d95b-4a34-86f3-3f6fc41faaa4",
   "metadata": {},
   "outputs": [
    {
     "data": {
      "text/plain": [
       "[Int64, String]"
      ]
     },
     "execution_count": 6,
     "metadata": {},
     "output_type": "execute_result"
    }
   ],
   "source": [
    "df.dtypes"
   ]
  },
  {
   "cell_type": "code",
   "execution_count": 7,
   "id": "798dd23d-2194-4f84-95f3-75e1c5b253f1",
   "metadata": {},
   "outputs": [
    {
     "data": {
      "text/html": [
       "<div><style>\n",
       ".dataframe > thead > tr,\n",
       ".dataframe > tbody > tr {\n",
       "  text-align: right;\n",
       "  white-space: pre-wrap;\n",
       "}\n",
       "</style>\n",
       "<small>shape: (100, 2)</small><table border=\"1\" class=\"dataframe\"><thead><tr><th>codigo</th><th>descricao</th></tr><tr><td>i64</td><td>str</td></tr></thead><tbody><tr><td>4313400</td><td>&quot;Obras de terra…</td></tr><tr><td>6613400</td><td>&quot;Administração …</td></tr><tr><td>8411600</td><td>&quot;Administração …</td></tr><tr><td>8711502</td><td>&quot;Instituições d…</td></tr><tr><td>7830200</td><td>&quot;Fornecimento e…</td></tr><tr><td>1731100</td><td>&quot;Fabricação de …</td></tr><tr><td>5823900</td><td>&quot;Edição integra…</td></tr><tr><td>8712300</td><td>&quot;Atividades de …</td></tr><tr><td>8630501</td><td>&quot;Atividade médi…</td></tr><tr><td>2740601</td><td>&quot;Fabricação de …</td></tr><tr><td>7732202</td><td>&quot;Aluguel de and…</td></tr><tr><td>6619303</td><td>&quot;Representações…</td></tr><tr><td>&hellip;</td><td>&hellip;</td></tr><tr><td>2399199</td><td>&quot;Fabricação de …</td></tr><tr><td>5510801</td><td>&quot;Hotéis&quot;</td></tr><tr><td>1210700</td><td>&quot;Processamento …</td></tr><tr><td>2660400</td><td>&quot;Fabricação de …</td></tr><tr><td>7420002</td><td>&quot;Atividades de …</td></tr><tr><td>133410</td><td>&quot;Cultivo de man…</td></tr><tr><td>5112999</td><td>&quot;Outros serviço…</td></tr><tr><td>6630400</td><td>&quot;Atividades de …</td></tr><tr><td>4713001</td><td>&quot;Lojas de depar…</td></tr><tr><td>2013402</td><td>&quot;Fabricação de …</td></tr><tr><td>4784900</td><td>&quot;Comércio varej…</td></tr><tr><td>155502</td><td>&quot;Produção de pi…</td></tr></tbody></table></div>"
      ],
      "text/plain": [
       "shape: (100, 2)\n",
       "┌─────────┬───────────────────────────────────┐\n",
       "│ codigo  ┆ descricao                         │\n",
       "│ ---     ┆ ---                               │\n",
       "│ i64     ┆ str                               │\n",
       "╞═════════╪═══════════════════════════════════╡\n",
       "│ 4313400 ┆ Obras de terraplenagem            │\n",
       "│ 6613400 ┆ Administração de cartões de créd… │\n",
       "│ 8411600 ┆ Administração pública em geral    │\n",
       "│ 8711502 ┆ Instituições de longa permanênci… │\n",
       "│ 7830200 ┆ Fornecimento e gestão de recurso… │\n",
       "│ …       ┆ …                                 │\n",
       "│ 6630400 ┆ Atividades de administração de f… │\n",
       "│ 4713001 ┆ Lojas de departamentos ou magazi… │\n",
       "│ 2013402 ┆ Fabricação de adubos e fertiliza… │\n",
       "│ 4784900 ┆ Comércio varejista de gás liqüef… │\n",
       "│ 155502  ┆ Produção de pintos de um dia      │\n",
       "└─────────┴───────────────────────────────────┘"
      ]
     },
     "execution_count": 7,
     "metadata": {},
     "output_type": "execute_result"
    }
   ],
   "source": [
    "df.sample(100)"
   ]
  },
  {
   "cell_type": "markdown",
   "id": "1e92f24b-4743-4d9f-a6ca-4b3d4e9847ee",
   "metadata": {},
   "source": [
    "### Selecionando a coluna `codigo`"
   ]
  },
  {
   "cell_type": "code",
   "execution_count": 10,
   "id": "25bea277-ffaa-441d-86c8-f98622d28256",
   "metadata": {},
   "outputs": [
    {
     "data": {
      "text/html": [
       "<div><style>\n",
       ".dataframe > thead > tr,\n",
       ".dataframe > tbody > tr {\n",
       "  text-align: right;\n",
       "  white-space: pre-wrap;\n",
       "}\n",
       "</style>\n",
       "<small>shape: (1_359, 1)</small><table border=\"1\" class=\"dataframe\"><thead><tr><th>codigo</th></tr><tr><td>i64</td></tr></thead><tbody><tr><td>111301</td></tr><tr><td>111302</td></tr><tr><td>111303</td></tr><tr><td>111399</td></tr><tr><td>112101</td></tr><tr><td>112102</td></tr><tr><td>112199</td></tr><tr><td>113000</td></tr><tr><td>114800</td></tr><tr><td>115600</td></tr><tr><td>116401</td></tr><tr><td>116402</td></tr><tr><td>&hellip;</td></tr><tr><td>9609201</td></tr><tr><td>9609202</td></tr><tr><td>9609203</td></tr><tr><td>9609204</td></tr><tr><td>9609205</td></tr><tr><td>9609206</td></tr><tr><td>9609207</td></tr><tr><td>9609208</td></tr><tr><td>9609299</td></tr><tr><td>9700500</td></tr><tr><td>9900800</td></tr><tr><td>8888888</td></tr></tbody></table></div>"
      ],
      "text/plain": [
       "shape: (1_359, 1)\n",
       "┌─────────┐\n",
       "│ codigo  │\n",
       "│ ---     │\n",
       "│ i64     │\n",
       "╞═════════╡\n",
       "│ 111301  │\n",
       "│ 111302  │\n",
       "│ 111303  │\n",
       "│ 111399  │\n",
       "│ 112101  │\n",
       "│ …       │\n",
       "│ 9609208 │\n",
       "│ 9609299 │\n",
       "│ 9700500 │\n",
       "│ 9900800 │\n",
       "│ 8888888 │\n",
       "└─────────┘"
      ]
     },
     "execution_count": 10,
     "metadata": {},
     "output_type": "execute_result"
    }
   ],
   "source": [
    "df.select(pl.col(\"codigo\"))"
   ]
  },
  {
   "cell_type": "markdown",
   "id": "c971e390-0e20-4199-a7bb-219b25c69f0b",
   "metadata": {},
   "source": [
    "### Selecionando a coluna `descricao`"
   ]
  },
  {
   "cell_type": "code",
   "execution_count": 11,
   "id": "4c06964d-077c-4daa-9d4b-26f5dd3e9521",
   "metadata": {},
   "outputs": [
    {
     "data": {
      "text/html": [
       "<div><style>\n",
       ".dataframe > thead > tr,\n",
       ".dataframe > tbody > tr {\n",
       "  text-align: right;\n",
       "  white-space: pre-wrap;\n",
       "}\n",
       "</style>\n",
       "<small>shape: (1_359, 1)</small><table border=\"1\" class=\"dataframe\"><thead><tr><th>descricao</th></tr><tr><td>str</td></tr></thead><tbody><tr><td>&quot;Cultivo de arr…</td></tr><tr><td>&quot;Cultivo de mil…</td></tr><tr><td>&quot;Cultivo de tri…</td></tr><tr><td>&quot;Cultivo de out…</td></tr><tr><td>&quot;Cultivo de alg…</td></tr><tr><td>&quot;Cultivo de jut…</td></tr><tr><td>&quot;Cultivo de out…</td></tr><tr><td>&quot;Cultivo de can…</td></tr><tr><td>&quot;Cultivo de fum…</td></tr><tr><td>&quot;Cultivo de soj…</td></tr><tr><td>&quot;Cultivo de ame…</td></tr><tr><td>&quot;Cultivo de gir…</td></tr><tr><td>&hellip;</td></tr><tr><td>&quot;Clinicas de es…</td></tr><tr><td>&quot;Agências matri…</td></tr><tr><td>&quot;Alojamento, hi…</td></tr><tr><td>&quot;Exploração de …</td></tr><tr><td>&quot;Atividades de …</td></tr><tr><td>&quot;Serviços de ta…</td></tr><tr><td>&quot;Alojamento de …</td></tr><tr><td>&quot;Higiene e embe…</td></tr><tr><td>&quot;Outras ativida…</td></tr><tr><td>&quot;Serviços domés…</td></tr><tr><td>&quot;Organismos int…</td></tr><tr><td>&quot;Atividade Econ…</td></tr></tbody></table></div>"
      ],
      "text/plain": [
       "shape: (1_359, 1)\n",
       "┌───────────────────────────────────┐\n",
       "│ descricao                         │\n",
       "│ ---                               │\n",
       "│ str                               │\n",
       "╞═══════════════════════════════════╡\n",
       "│ Cultivo de arroz                  │\n",
       "│ Cultivo de milho                  │\n",
       "│ Cultivo de trigo                  │\n",
       "│ Cultivo de outros cereais não es… │\n",
       "│ Cultivo de algodão herbáceo       │\n",
       "│ …                                 │\n",
       "│ Higiene e embelezamento de anima… │\n",
       "│ Outras atividades de serviços pe… │\n",
       "│ Serviços domésticos               │\n",
       "│ Organismos internacionais e outr… │\n",
       "│ Atividade Econônica não informad… │\n",
       "└───────────────────────────────────┘"
      ]
     },
     "execution_count": 11,
     "metadata": {},
     "output_type": "execute_result"
    }
   ],
   "source": [
    "df.select(pl.col(\"descricao\"))"
   ]
  },
  {
   "cell_type": "code",
   "execution_count": null,
   "id": "9bb89fd7-271b-405a-831b-1e0ebd7701bd",
   "metadata": {},
   "outputs": [],
   "source": []
  }
 ],
 "metadata": {
  "kernelspec": {
   "display_name": "Python 3 (ipykernel)",
   "language": "python",
   "name": "python3"
  },
  "language_info": {
   "codemirror_mode": {
    "name": "ipython",
    "version": 3
   },
   "file_extension": ".py",
   "mimetype": "text/x-python",
   "name": "python",
   "nbconvert_exporter": "python",
   "pygments_lexer": "ipython3",
   "version": "3.9.16"
  }
 },
 "nbformat": 4,
 "nbformat_minor": 5
}
