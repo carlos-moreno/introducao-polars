{
 "cells": [
  {
   "cell_type": "markdown",
   "id": "d0f8471f-e781-4c52-91d4-30906bc509c4",
   "metadata": {},
   "source": [
    "### Importando as bibliotecas"
   ]
  },
  {
   "cell_type": "code",
   "execution_count": 1,
   "id": "4cb87b0a-2e2b-4c70-ba78-2a1cd72d0fdd",
   "metadata": {},
   "outputs": [],
   "source": [
    "import polars as pl\n",
    "import pandas as pd\n",
    "import numpy as np\n",
    "import pyarrow"
   ]
  },
  {
   "cell_type": "markdown",
   "id": "f36a120d-d7cb-4d2d-8213-650455a999b0",
   "metadata": {},
   "source": [
    "### Fonte dos dados\n",
    "#### https://dados.gov.br/dados/conjuntos-dados/cadastro-nacional-da-pessoa-juridica---cnpj"
   ]
  },
  {
   "cell_type": "markdown",
   "id": "a4da33ec-0a77-4fec-beda-8148d1e677dc",
   "metadata": {},
   "source": [
    "### Lendo o CSV"
   ]
  },
  {
   "cell_type": "code",
   "execution_count": 2,
   "id": "0a09835b-7896-4d3d-a7b6-858e21730d23",
   "metadata": {},
   "outputs": [],
   "source": [
    "df = pl.read_csv(\"assets/cnaes.csv\", separator=\";\", has_header=False, new_columns=[\"codigo\", \"descricao\"])"
   ]
  },
  {
   "cell_type": "markdown",
   "id": "7407ed4e-1428-431e-821a-e53646da6636",
   "metadata": {},
   "source": [
    "### Operações básicas"
   ]
  },
  {
   "cell_type": "code",
   "execution_count": 3,
   "id": "e9015704-1e98-4c05-9051-9019374cc00d",
   "metadata": {},
   "outputs": [
    {
     "data": {
      "text/plain": [
       "(1359, 2)"
      ]
     },
     "execution_count": 3,
     "metadata": {},
     "output_type": "execute_result"
    }
   ],
   "source": [
    "df.shape"
   ]
  },
  {
   "cell_type": "code",
   "execution_count": 4,
   "id": "f89cb5d4-8c13-48c4-a30e-7571e0aa8d6e",
   "metadata": {},
   "outputs": [
    {
     "data": {
      "text/html": [
       "<div><style>\n",
       ".dataframe > thead > tr,\n",
       ".dataframe > tbody > tr {\n",
       "  text-align: right;\n",
       "  white-space: pre-wrap;\n",
       "}\n",
       "</style>\n",
       "<small>shape: (5, 2)</small><table border=\"1\" class=\"dataframe\"><thead><tr><th>codigo</th><th>descricao</th></tr><tr><td>i64</td><td>str</td></tr></thead><tbody><tr><td>111301</td><td>&quot;Cultivo de arr…</td></tr><tr><td>111302</td><td>&quot;Cultivo de mil…</td></tr><tr><td>111303</td><td>&quot;Cultivo de tri…</td></tr><tr><td>111399</td><td>&quot;Cultivo de out…</td></tr><tr><td>112101</td><td>&quot;Cultivo de alg…</td></tr></tbody></table></div>"
      ],
      "text/plain": [
       "shape: (5, 2)\n",
       "┌────────┬───────────────────────────────────┐\n",
       "│ codigo ┆ descricao                         │\n",
       "│ ---    ┆ ---                               │\n",
       "│ i64    ┆ str                               │\n",
       "╞════════╪═══════════════════════════════════╡\n",
       "│ 111301 ┆ Cultivo de arroz                  │\n",
       "│ 111302 ┆ Cultivo de milho                  │\n",
       "│ 111303 ┆ Cultivo de trigo                  │\n",
       "│ 111399 ┆ Cultivo de outros cereais não es… │\n",
       "│ 112101 ┆ Cultivo de algodão herbáceo       │\n",
       "└────────┴───────────────────────────────────┘"
      ]
     },
     "execution_count": 4,
     "metadata": {},
     "output_type": "execute_result"
    }
   ],
   "source": [
    "df.head()"
   ]
  },
  {
   "cell_type": "code",
   "execution_count": 5,
   "id": "4182844e-c94e-407c-af20-1766fca224f8",
   "metadata": {},
   "outputs": [
    {
     "data": {
      "text/html": [
       "<div><style>\n",
       ".dataframe > thead > tr,\n",
       ".dataframe > tbody > tr {\n",
       "  text-align: right;\n",
       "  white-space: pre-wrap;\n",
       "}\n",
       "</style>\n",
       "<small>shape: (5, 2)</small><table border=\"1\" class=\"dataframe\"><thead><tr><th>codigo</th><th>descricao</th></tr><tr><td>i64</td><td>str</td></tr></thead><tbody><tr><td>9609208</td><td>&quot;Higiene e embe…</td></tr><tr><td>9609299</td><td>&quot;Outras ativida…</td></tr><tr><td>9700500</td><td>&quot;Serviços domés…</td></tr><tr><td>9900800</td><td>&quot;Organismos int…</td></tr><tr><td>8888888</td><td>&quot;Atividade Econ…</td></tr></tbody></table></div>"
      ],
      "text/plain": [
       "shape: (5, 2)\n",
       "┌─────────┬───────────────────────────────────┐\n",
       "│ codigo  ┆ descricao                         │\n",
       "│ ---     ┆ ---                               │\n",
       "│ i64     ┆ str                               │\n",
       "╞═════════╪═══════════════════════════════════╡\n",
       "│ 9609208 ┆ Higiene e embelezamento de anima… │\n",
       "│ 9609299 ┆ Outras atividades de serviços pe… │\n",
       "│ 9700500 ┆ Serviços domésticos               │\n",
       "│ 9900800 ┆ Organismos internacionais e outr… │\n",
       "│ 8888888 ┆ Atividade Econônica não informad… │\n",
       "└─────────┴───────────────────────────────────┘"
      ]
     },
     "execution_count": 5,
     "metadata": {},
     "output_type": "execute_result"
    }
   ],
   "source": [
    "df.tail()"
   ]
  },
  {
   "cell_type": "code",
   "execution_count": 6,
   "id": "45df50c0-d95b-4a34-86f3-3f6fc41faaa4",
   "metadata": {},
   "outputs": [
    {
     "data": {
      "text/plain": [
       "[Int64, String]"
      ]
     },
     "execution_count": 6,
     "metadata": {},
     "output_type": "execute_result"
    }
   ],
   "source": [
    "df.dtypes"
   ]
  },
  {
   "cell_type": "code",
   "execution_count": 7,
   "id": "798dd23d-2194-4f84-95f3-75e1c5b253f1",
   "metadata": {},
   "outputs": [
    {
     "data": {
      "text/html": [
       "<div><style>\n",
       ".dataframe > thead > tr,\n",
       ".dataframe > tbody > tr {\n",
       "  text-align: right;\n",
       "  white-space: pre-wrap;\n",
       "}\n",
       "</style>\n",
       "<small>shape: (10, 2)</small><table border=\"1\" class=\"dataframe\"><thead><tr><th>codigo</th><th>descricao</th></tr><tr><td>i64</td><td>str</td></tr></thead><tbody><tr><td>6436100</td><td>&quot;Sociedades de …</td></tr><tr><td>2021500</td><td>&quot;Fabricação de …</td></tr><tr><td>9319101</td><td>&quot;Produção e pro…</td></tr><tr><td>311604</td><td>&quot;Atividades de …</td></tr><tr><td>3099700</td><td>&quot;Fabricação de …</td></tr><tr><td>4753900</td><td>&quot;Comércio varej…</td></tr><tr><td>4635499</td><td>&quot;Comércio ataca…</td></tr><tr><td>5221400</td><td>&quot;Concessionária…</td></tr><tr><td>4761001</td><td>&quot;Comércio varej…</td></tr><tr><td>3314711</td><td>&quot;Manutenção e r…</td></tr></tbody></table></div>"
      ],
      "text/plain": [
       "shape: (10, 2)\n",
       "┌─────────┬───────────────────────────────────┐\n",
       "│ codigo  ┆ descricao                         │\n",
       "│ ---     ┆ ---                               │\n",
       "│ i64     ┆ str                               │\n",
       "╞═════════╪═══════════════════════════════════╡\n",
       "│ 6436100 ┆ Sociedades de crédito, financiam… │\n",
       "│ 2021500 ┆ Fabricação de produtos petroquím… │\n",
       "│ 9319101 ┆ Produção e promoção de eventos e… │\n",
       "│ 311604  ┆ Atividades de apoio à pesca em á… │\n",
       "│ 3099700 ┆ Fabricação de equipamentos de tr… │\n",
       "│ 4753900 ┆ Comércio varejista especializado… │\n",
       "│ 4635499 ┆ Comércio atacadista de bebidas n… │\n",
       "│ 5221400 ┆ Concessionárias de rodovias, pon… │\n",
       "│ 4761001 ┆ Comércio varejista de livros      │\n",
       "│ 3314711 ┆ Manutenção e reparação de máquin… │\n",
       "└─────────┴───────────────────────────────────┘"
      ]
     },
     "execution_count": 7,
     "metadata": {},
     "output_type": "execute_result"
    }
   ],
   "source": [
    "df.sample(10)"
   ]
  }
 ],
 "metadata": {
  "kernelspec": {
   "display_name": "Python 3 (ipykernel)",
   "language": "python",
   "name": "python3"
  },
  "language_info": {
   "codemirror_mode": {
    "name": "ipython",
    "version": 3
   },
   "file_extension": ".py",
   "mimetype": "text/x-python",
   "name": "python",
   "nbconvert_exporter": "python",
   "pygments_lexer": "ipython3",
   "version": "3.9.18"
  }
 },
 "nbformat": 4,
 "nbformat_minor": 5
}
