{
  "nbformat": 4,
  "nbformat_minor": 0,
  "metadata": {
    "colab": {
      "provenance": [],
      "mount_file_id": "1BmIhm7fM5LO5Jd43Jw6gVwpLNf8_vYHY",
      "authorship_tag": "ABX9TyPs8wxmCQb2ObBFl/j9K3jj",
      "include_colab_link": true
    },
    "kernelspec": {
      "name": "python3",
      "display_name": "Python 3"
    },
    "language_info": {
      "name": "python"
    }
  },
  "cells": [
    {
      "cell_type": "markdown",
      "metadata": {
        "id": "view-in-github",
        "colab_type": "text"
      },
      "source": [
        "<a href=\"https://colab.research.google.com/github/carlos-moreno/introducao-polars/blob/main/introducao_polars.ipynb\" target=\"_parent\"><img src=\"https://colab.research.google.com/assets/colab-badge.svg\" alt=\"Open In Colab\"/></a>"
      ]
    },
    {
      "cell_type": "code",
      "execution_count": 1,
      "metadata": {
        "id": "32WgbyeZ2hrE"
      },
      "outputs": [],
      "source": [
        "!pip install polars -q"
      ]
    },
    {
      "cell_type": "code",
      "source": [
        "import pandas as pd\n",
        "import polars as pl"
      ],
      "metadata": {
        "id": "gwvWbeT32mt2"
      },
      "execution_count": 2,
      "outputs": []
    },
    {
      "cell_type": "code",
      "source": [
        "%%time\n",
        "df_pl = pl.read_csv('/content/drive/MyDrive/kaggle/2018.csv')\n",
        "df_pl.estimated_size(\"gb\")"
      ],
      "metadata": {
        "colab": {
          "base_uri": "https://localhost:8080/"
        },
        "id": "en_lRX7I5G_t",
        "outputId": "e785d2a2-1b23-48aa-f7ab-e90f72c2bce4"
      },
      "execution_count": 3,
      "outputs": [
        {
          "output_type": "stream",
          "name": "stdout",
          "text": [
            "CPU times: user 13.4 s, sys: 4.98 s, total: 18.4 s\n",
            "Wall time: 21.4 s\n"
          ]
        },
        {
          "output_type": "execute_result",
          "data": {
            "text/plain": [
              "1.6409911420196295"
            ]
          },
          "metadata": {},
          "execution_count": 3
        }
      ]
    },
    {
      "cell_type": "code",
      "source": [
        "%%time\n",
        "df_pd = pd.read_csv('/content/drive/MyDrive/kaggle/2018.csv')\n",
        "df_pd.info(memory_usage='deep')"
      ],
      "metadata": {
        "colab": {
          "base_uri": "https://localhost:8080/"
        },
        "id": "-F5_1GHw5mSg",
        "outputId": "4241f93f-d4d5-4cef-f607-9423eb694e4b"
      },
      "execution_count": 4,
      "outputs": [
        {
          "output_type": "stream",
          "name": "stdout",
          "text": [
            "<class 'pandas.core.frame.DataFrame'>\n",
            "RangeIndex: 7213446 entries, 0 to 7213445\n",
            "Data columns (total 28 columns):\n",
            " #   Column               Dtype  \n",
            "---  ------               -----  \n",
            " 0   FL_DATE              object \n",
            " 1   OP_CARRIER           object \n",
            " 2   OP_CARRIER_FL_NUM    int64  \n",
            " 3   ORIGIN               object \n",
            " 4   DEST                 object \n",
            " 5   CRS_DEP_TIME         int64  \n",
            " 6   DEP_TIME             float64\n",
            " 7   DEP_DELAY            float64\n",
            " 8   TAXI_OUT             float64\n",
            " 9   WHEELS_OFF           float64\n",
            " 10  WHEELS_ON            float64\n",
            " 11  TAXI_IN              float64\n",
            " 12  CRS_ARR_TIME         int64  \n",
            " 13  ARR_TIME             float64\n",
            " 14  ARR_DELAY            float64\n",
            " 15  CANCELLED            float64\n",
            " 16  CANCELLATION_CODE    object \n",
            " 17  DIVERTED             float64\n",
            " 18  CRS_ELAPSED_TIME     float64\n",
            " 19  ACTUAL_ELAPSED_TIME  float64\n",
            " 20  AIR_TIME             float64\n",
            " 21  DISTANCE             float64\n",
            " 22  CARRIER_DELAY        float64\n",
            " 23  WEATHER_DELAY        float64\n",
            " 24  NAS_DELAY            float64\n",
            " 25  SECURITY_DELAY       float64\n",
            " 26  LATE_AIRCRAFT_DELAY  float64\n",
            " 27  Unnamed: 27          float64\n",
            "dtypes: float64(20), int64(3), object(5)\n",
            "memory usage: 3.1 GB\n",
            "CPU times: user 34.1 s, sys: 5.7 s, total: 39.8 s\n",
            "Wall time: 43 s\n"
          ]
        }
      ]
    },
    {
      "cell_type": "code",
      "source": [],
      "metadata": {
        "id": "FM6y-Kmc9JAp"
      },
      "execution_count": 4,
      "outputs": []
    }
  ]
}